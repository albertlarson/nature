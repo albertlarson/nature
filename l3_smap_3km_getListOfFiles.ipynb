{
 "cells": [
  {
   "cell_type": "code",
   "execution_count": 42,
   "id": "adopted-tourism",
   "metadata": {},
   "outputs": [],
   "source": [
    "import numpy as np\n",
    "from bs4 import BeautifulSoup as bs\n",
    "import requests\n",
    "import re"
   ]
  },
  {
   "cell_type": "code",
   "execution_count": 2,
   "id": "ambient-writing",
   "metadata": {},
   "outputs": [
    {
     "data": {
      "text/plain": [
       "array(['https://n5eil01u.ecs.nsidc.org/SMAP/SPL3SMP.008/2015.03.31/SMAP_L3_SM_P_20150331_R18290_002.h5',\n",
       "       'https://n5eil01u.ecs.nsidc.org/SMAP/SPL3SMP.008/2015.03.31/SMAP_L3_SM_P_20150331_R18290_001.h5',\n",
       "       'https://n5eil01u.ecs.nsidc.org/SMAP/SPL3SMP.008/2015.04.01/SMAP_L3_SM_P_20150401_R18290_001.h5',\n",
       "       ...,\n",
       "       'https://n5eil01u.ecs.nsidc.org/SMAP/SPL3SMP.008/2022.03.21/SMAP_L3_SM_P_20220321_R18290_001.h5',\n",
       "       'https://n5eil01u.ecs.nsidc.org/SMAP/SPL3SMP.008/2022.03.22/SMAP_L3_SM_P_20220322_R18290_001.h5',\n",
       "       'https://n5eil01u.ecs.nsidc.org/SMAP/SPL3SMP.008/2022.03.23/SMAP_L3_SM_P_20220323_R18290_001.h5'],\n",
       "      dtype='<U94')"
      ]
     },
     "execution_count": 2,
     "metadata": {},
     "output_type": "execute_result"
    }
   ],
   "source": [
    "smap_36_list = np.load('smap_h5.npy')\n",
    "smap_36_list"
   ]
  },
  {
   "cell_type": "code",
   "execution_count": 12,
   "id": "found-bracket",
   "metadata": {},
   "outputs": [
    {
     "data": {
      "text/plain": [
       "['2015.04.13',\n",
       " '2015.04.14',\n",
       " '2015.04.15',\n",
       " '2015.04.16',\n",
       " '2015.04.17',\n",
       " '2015.04.18',\n",
       " '2015.04.19',\n",
       " '2015.04.20',\n",
       " '2015.04.21',\n",
       " '2015.04.22',\n",
       " '2015.04.23',\n",
       " '2015.04.24',\n",
       " '2015.04.25',\n",
       " '2015.04.26',\n",
       " '2015.04.27',\n",
       " '2015.04.28',\n",
       " '2015.04.29',\n",
       " '2015.04.30',\n",
       " '2015.05.01',\n",
       " '2015.05.02',\n",
       " '2015.05.03',\n",
       " '2015.05.04',\n",
       " '2015.05.05',\n",
       " '2015.05.06',\n",
       " '2015.05.07',\n",
       " '2015.05.08',\n",
       " '2015.05.09',\n",
       " '2015.05.10',\n",
       " '2015.05.11',\n",
       " '2015.05.12',\n",
       " '2015.05.14',\n",
       " '2015.05.15',\n",
       " '2015.05.16',\n",
       " '2015.05.17',\n",
       " '2015.05.18',\n",
       " '2015.05.19',\n",
       " '2015.05.20',\n",
       " '2015.05.21',\n",
       " '2015.05.22',\n",
       " '2015.05.23',\n",
       " '2015.05.24',\n",
       " '2015.05.25',\n",
       " '2015.05.26',\n",
       " '2015.05.27',\n",
       " '2015.05.28',\n",
       " '2015.05.29',\n",
       " '2015.05.30',\n",
       " '2015.05.31',\n",
       " '2015.06.01',\n",
       " '2015.06.02',\n",
       " '2015.06.03',\n",
       " '2015.06.04',\n",
       " '2015.06.05',\n",
       " '2015.06.06',\n",
       " '2015.06.07',\n",
       " '2015.06.08',\n",
       " '2015.06.09',\n",
       " '2015.06.10',\n",
       " '2015.06.11',\n",
       " '2015.06.11',\n",
       " '2015.06.12',\n",
       " '2015.06.13',\n",
       " '2015.06.13',\n",
       " '2015.06.14',\n",
       " '2015.06.15',\n",
       " '2015.06.16',\n",
       " '2015.06.17',\n",
       " '2015.06.18',\n",
       " '2015.06.19',\n",
       " '2015.06.20',\n",
       " '2015.06.21',\n",
       " '2015.06.22',\n",
       " '2015.06.23',\n",
       " '2015.06.24',\n",
       " '2015.06.25',\n",
       " '2015.06.26',\n",
       " '2015.06.27',\n",
       " '2015.06.28',\n",
       " '2015.06.29',\n",
       " '2015.06.30',\n",
       " '2015.07.01',\n",
       " '2015.07.02',\n",
       " '2015.07.03',\n",
       " '2015.07.04',\n",
       " '2015.07.05',\n",
       " '2015.07.06',\n",
       " '2015.07.07']"
      ]
     },
     "execution_count": 12,
     "metadata": {},
     "output_type": "execute_result"
    }
   ],
   "source": [
    "smap36_dateonly = [x[48:58] for x in smap_36_list]\n",
    "smap36_dateonly[14:101]"
   ]
  },
  {
   "cell_type": "code",
   "execution_count": 15,
   "id": "wooden-forward",
   "metadata": {},
   "outputs": [],
   "source": [
    "address = []\n",
    "for x in smap36_dateonly[14:101]:\n",
    "    address_temp = f'https://n5eil02u.ecs.nsidc.org/opendap/SMAP/SPL3SMA.003/{x}/contents.html'\n",
    "    address.append(address_temp)"
   ]
  },
  {
   "cell_type": "code",
   "execution_count": 17,
   "id": "square-despite",
   "metadata": {},
   "outputs": [],
   "source": [
    "# address"
   ]
  },
  {
   "cell_type": "code",
   "execution_count": 74,
   "id": "scheduled-producer",
   "metadata": {},
   "outputs": [],
   "source": [
    "from bs4 import SoupStrainer\n",
    "only_contentUrl_tags = SoupStrainer(itemprop=\"contentUrl\")"
   ]
  },
  {
   "cell_type": "code",
   "execution_count": 127,
   "id": "sunrise-helmet",
   "metadata": {},
   "outputs": [
    {
     "name": "stdout",
     "output_type": "stream",
     "text": [
      "https://n5eil02u.ecs.nsidc.org/opendap/SMAP/SPL3SMA.003/2015.04.13/SMAP_L3_SM_A_20150413_R13080_002.h5\n",
      "https://n5eil02u.ecs.nsidc.org/opendap/SMAP/SPL3SMA.003/2015.04.14/SMAP_L3_SM_A_20150414_R13080_001.h5\n",
      "https://n5eil02u.ecs.nsidc.org/opendap/SMAP/SPL3SMA.003/2015.04.15/SMAP_L3_SM_A_20150415_R13080_001.h5\n",
      "https://n5eil02u.ecs.nsidc.org/opendap/SMAP/SPL3SMA.003/2015.04.16/SMAP_L3_SM_A_20150416_R13080_001.h5\n",
      "https://n5eil02u.ecs.nsidc.org/opendap/SMAP/SPL3SMA.003/2015.04.17/SMAP_L3_SM_A_20150417_R13080_001.h5\n",
      "https://n5eil02u.ecs.nsidc.org/opendap/SMAP/SPL3SMA.003/2015.04.18/SMAP_L3_SM_A_20150418_R13080_001.h5\n",
      "https://n5eil02u.ecs.nsidc.org/opendap/SMAP/SPL3SMA.003/2015.04.19/SMAP_L3_SM_A_20150419_R13080_001.h5\n",
      "https://n5eil02u.ecs.nsidc.org/opendap/SMAP/SPL3SMA.003/2015.04.20/SMAP_L3_SM_A_20150420_R13080_001.h5\n",
      "https://n5eil02u.ecs.nsidc.org/opendap/SMAP/SPL3SMA.003/2015.04.21/SMAP_L3_SM_A_20150421_R13080_001.h5\n",
      "https://n5eil02u.ecs.nsidc.org/opendap/SMAP/SPL3SMA.003/2015.04.22/SMAP_L3_SM_A_20150422_R13080_001.h5\n",
      "https://n5eil02u.ecs.nsidc.org/opendap/SMAP/SPL3SMA.003/2015.04.23/SMAP_L3_SM_A_20150423_R13080_001.h5\n",
      "https://n5eil02u.ecs.nsidc.org/opendap/SMAP/SPL3SMA.003/2015.04.24/SMAP_L3_SM_A_20150424_R13080_001.h5\n",
      "https://n5eil02u.ecs.nsidc.org/opendap/SMAP/SPL3SMA.003/2015.04.25/SMAP_L3_SM_A_20150425_R13080_001.h5\n",
      "https://n5eil02u.ecs.nsidc.org/opendap/SMAP/SPL3SMA.003/2015.04.26/SMAP_L3_SM_A_20150426_R13080_001.h5\n",
      "https://n5eil02u.ecs.nsidc.org/opendap/SMAP/SPL3SMA.003/2015.04.27/SMAP_L3_SM_A_20150427_R13080_001.h5\n",
      "https://n5eil02u.ecs.nsidc.org/opendap/SMAP/SPL3SMA.003/2015.04.28/SMAP_L3_SM_A_20150428_R13080_001.h5\n",
      "https://n5eil02u.ecs.nsidc.org/opendap/SMAP/SPL3SMA.003/2015.04.29/SMAP_L3_SM_A_20150429_R13080_001.h5\n",
      "https://n5eil02u.ecs.nsidc.org/opendap/SMAP/SPL3SMA.003/2015.04.30/SMAP_L3_SM_A_20150430_R13080_001.h5\n",
      "https://n5eil02u.ecs.nsidc.org/opendap/SMAP/SPL3SMA.003/2015.05.01/SMAP_L3_SM_A_20150501_R13080_001.h5\n",
      "https://n5eil02u.ecs.nsidc.org/opendap/SMAP/SPL3SMA.003/2015.05.02/SMAP_L3_SM_A_20150502_R13080_001.h5\n",
      "https://n5eil02u.ecs.nsidc.org/opendap/SMAP/SPL3SMA.003/2015.05.03/SMAP_L3_SM_A_20150503_R13080_001.h5\n",
      "https://n5eil02u.ecs.nsidc.org/opendap/SMAP/SPL3SMA.003/2015.05.04/SMAP_L3_SM_A_20150504_R13080_001.h5\n",
      "https://n5eil02u.ecs.nsidc.org/opendap/SMAP/SPL3SMA.003/2015.05.05/SMAP_L3_SM_A_20150505_R13080_001.h5\n",
      "https://n5eil02u.ecs.nsidc.org/opendap/SMAP/SPL3SMA.003/2015.05.06/SMAP_L3_SM_A_20150506_R13080_001.h5\n",
      "https://n5eil02u.ecs.nsidc.org/opendap/SMAP/SPL3SMA.003/2015.05.07/SMAP_L3_SM_A_20150507_R13080_001.h5\n",
      "https://n5eil02u.ecs.nsidc.org/opendap/SMAP/SPL3SMA.003/2015.05.08/SMAP_L3_SM_A_20150508_R13080_001.h5\n",
      "https://n5eil02u.ecs.nsidc.org/opendap/SMAP/SPL3SMA.003/2015.05.09/SMAP_L3_SM_A_20150509_R13080_001.h5\n",
      "https://n5eil02u.ecs.nsidc.org/opendap/SMAP/SPL3SMA.003/2015.05.10/SMAP_L3_SM_A_20150510_R13080_001.h5\n",
      "https://n5eil02u.ecs.nsidc.org/opendap/SMAP/SPL3SMA.003/2015.05.11/SMAP_L3_SM_A_20150511_R13080_001.h5\n",
      "https://n5eil02u.ecs.nsidc.org/opendap/SMAP/SPL3SMA.003/2015.05.12/SMAP_L3_SM_A_20150512_R13080_001.h5\n",
      "https://n5eil02u.ecs.nsidc.org/opendap/SMAP/SPL3SMA.003/2015.05.14/SMAP_L3_SM_A_20150514_R13080_001.h5\n",
      "https://n5eil02u.ecs.nsidc.org/opendap/SMAP/SPL3SMA.003/2015.05.15/SMAP_L3_SM_A_20150515_R13080_001.h5\n",
      "https://n5eil02u.ecs.nsidc.org/opendap/SMAP/SPL3SMA.003/2015.05.16/SMAP_L3_SM_A_20150516_R13080_001.h5\n",
      "https://n5eil02u.ecs.nsidc.org/opendap/SMAP/SPL3SMA.003/2015.05.17/SMAP_L3_SM_A_20150517_R13080_001.h5\n",
      "https://n5eil02u.ecs.nsidc.org/opendap/SMAP/SPL3SMA.003/2015.05.18/SMAP_L3_SM_A_20150518_R13080_001.h5\n",
      "https://n5eil02u.ecs.nsidc.org/opendap/SMAP/SPL3SMA.003/2015.05.19/SMAP_L3_SM_A_20150519_R13080_001.h5\n",
      "https://n5eil02u.ecs.nsidc.org/opendap/SMAP/SPL3SMA.003/2015.05.20/SMAP_L3_SM_A_20150520_R13080_001.h5\n",
      "https://n5eil02u.ecs.nsidc.org/opendap/SMAP/SPL3SMA.003/2015.05.21/SMAP_L3_SM_A_20150521_R13080_001.h5\n",
      "https://n5eil02u.ecs.nsidc.org/opendap/SMAP/SPL3SMA.003/2015.05.22/SMAP_L3_SM_A_20150522_R13080_001.h5\n",
      "https://n5eil02u.ecs.nsidc.org/opendap/SMAP/SPL3SMA.003/2015.05.23/SMAP_L3_SM_A_20150523_R13080_001.h5\n",
      "https://n5eil02u.ecs.nsidc.org/opendap/SMAP/SPL3SMA.003/2015.05.24/SMAP_L3_SM_A_20150524_R13080_001.h5\n",
      "https://n5eil02u.ecs.nsidc.org/opendap/SMAP/SPL3SMA.003/2015.05.25/SMAP_L3_SM_A_20150525_R13080_001.h5\n",
      "https://n5eil02u.ecs.nsidc.org/opendap/SMAP/SPL3SMA.003/2015.05.26/SMAP_L3_SM_A_20150526_R13080_001.h5\n",
      "https://n5eil02u.ecs.nsidc.org/opendap/SMAP/SPL3SMA.003/2015.05.27/SMAP_L3_SM_A_20150527_R13080_001.h5\n",
      "https://n5eil02u.ecs.nsidc.org/opendap/SMAP/SPL3SMA.003/2015.05.28/SMAP_L3_SM_A_20150528_R13080_001.h5\n",
      "https://n5eil02u.ecs.nsidc.org/opendap/SMAP/SPL3SMA.003/2015.05.29/SMAP_L3_SM_A_20150529_R13080_001.h5\n",
      "https://n5eil02u.ecs.nsidc.org/opendap/SMAP/SPL3SMA.003/2015.05.30/SMAP_L3_SM_A_20150530_R13080_001.h5\n",
      "https://n5eil02u.ecs.nsidc.org/opendap/SMAP/SPL3SMA.003/2015.05.31/SMAP_L3_SM_A_20150531_R13080_001.h5\n",
      "https://n5eil02u.ecs.nsidc.org/opendap/SMAP/SPL3SMA.003/2015.06.01/SMAP_L3_SM_A_20150601_R13080_001.h5\n",
      "https://n5eil02u.ecs.nsidc.org/opendap/SMAP/SPL3SMA.003/2015.06.02/SMAP_L3_SM_A_20150602_R13080_001.h5\n",
      "https://n5eil02u.ecs.nsidc.org/opendap/SMAP/SPL3SMA.003/2015.06.03/SMAP_L3_SM_A_20150603_R13080_001.h5\n",
      "https://n5eil02u.ecs.nsidc.org/opendap/SMAP/SPL3SMA.003/2015.06.04/SMAP_L3_SM_A_20150604_R13080_001.h5\n",
      "https://n5eil02u.ecs.nsidc.org/opendap/SMAP/SPL3SMA.003/2015.06.05/SMAP_L3_SM_A_20150605_R13080_001.h5\n",
      "https://n5eil02u.ecs.nsidc.org/opendap/SMAP/SPL3SMA.003/2015.06.06/SMAP_L3_SM_A_20150606_R13080_001.h5\n",
      "https://n5eil02u.ecs.nsidc.org/opendap/SMAP/SPL3SMA.003/2015.06.07/SMAP_L3_SM_A_20150607_R13080_001.h5\n",
      "https://n5eil02u.ecs.nsidc.org/opendap/SMAP/SPL3SMA.003/2015.06.08/SMAP_L3_SM_A_20150608_R13080_001.h5\n",
      "https://n5eil02u.ecs.nsidc.org/opendap/SMAP/SPL3SMA.003/2015.06.09/SMAP_L3_SM_A_20150609_R13080_001.h5\n",
      "https://n5eil02u.ecs.nsidc.org/opendap/SMAP/SPL3SMA.003/2015.06.10/SMAP_L3_SM_A_20150610_R13080_001.h5\n",
      "https://n5eil02u.ecs.nsidc.org/opendap/SMAP/SPL3SMA.003/2015.06.11/SMAP_L3_SM_A_20150611_R13080_001.h5\n",
      "https://n5eil02u.ecs.nsidc.org/opendap/SMAP/SPL3SMA.003/2015.06.11/SMAP_L3_SM_A_20150611_R13080_001.h5\n",
      "https://n5eil02u.ecs.nsidc.org/opendap/SMAP/SPL3SMA.003/2015.06.12/SMAP_L3_SM_A_20150612_R13080_001.h5\n",
      "https://n5eil02u.ecs.nsidc.org/opendap/SMAP/SPL3SMA.003/2015.06.13/SMAP_L3_SM_A_20150613_R13080_001.h5\n",
      "https://n5eil02u.ecs.nsidc.org/opendap/SMAP/SPL3SMA.003/2015.06.13/SMAP_L3_SM_A_20150613_R13080_001.h5\n",
      "https://n5eil02u.ecs.nsidc.org/opendap/SMAP/SPL3SMA.003/2015.06.14/SMAP_L3_SM_A_20150614_R13080_001.h5\n",
      "https://n5eil02u.ecs.nsidc.org/opendap/SMAP/SPL3SMA.003/2015.06.15/SMAP_L3_SM_A_20150615_R13080_001.h5\n",
      "https://n5eil02u.ecs.nsidc.org/opendap/SMAP/SPL3SMA.003/2015.06.17/SMAP_L3_SM_A_20150617_R13080_001.h5\n",
      "https://n5eil02u.ecs.nsidc.org/opendap/SMAP/SPL3SMA.003/2015.06.18/SMAP_L3_SM_A_20150618_R13080_001.h5\n",
      "https://n5eil02u.ecs.nsidc.org/opendap/SMAP/SPL3SMA.003/2015.06.19/SMAP_L3_SM_A_20150619_R13080_001.h5\n",
      "https://n5eil02u.ecs.nsidc.org/opendap/SMAP/SPL3SMA.003/2015.06.20/SMAP_L3_SM_A_20150620_R13080_001.h5\n",
      "https://n5eil02u.ecs.nsidc.org/opendap/SMAP/SPL3SMA.003/2015.06.21/SMAP_L3_SM_A_20150621_R13080_001.h5\n",
      "https://n5eil02u.ecs.nsidc.org/opendap/SMAP/SPL3SMA.003/2015.06.22/SMAP_L3_SM_A_20150622_R13080_001.h5\n",
      "https://n5eil02u.ecs.nsidc.org/opendap/SMAP/SPL3SMA.003/2015.06.23/SMAP_L3_SM_A_20150623_R13080_001.h5\n",
      "https://n5eil02u.ecs.nsidc.org/opendap/SMAP/SPL3SMA.003/2015.06.24/SMAP_L3_SM_A_20150624_R13080_001.h5\n",
      "https://n5eil02u.ecs.nsidc.org/opendap/SMAP/SPL3SMA.003/2015.06.25/SMAP_L3_SM_A_20150625_R13080_001.h5\n",
      "https://n5eil02u.ecs.nsidc.org/opendap/SMAP/SPL3SMA.003/2015.06.26/SMAP_L3_SM_A_20150626_R13080_001.h5\n",
      "https://n5eil02u.ecs.nsidc.org/opendap/SMAP/SPL3SMA.003/2015.06.27/SMAP_L3_SM_A_20150627_R13080_001.h5\n",
      "https://n5eil02u.ecs.nsidc.org/opendap/SMAP/SPL3SMA.003/2015.06.28/SMAP_L3_SM_A_20150628_R13080_001.h5\n",
      "https://n5eil02u.ecs.nsidc.org/opendap/SMAP/SPL3SMA.003/2015.06.29/SMAP_L3_SM_A_20150629_R13080_001.h5\n",
      "https://n5eil02u.ecs.nsidc.org/opendap/SMAP/SPL3SMA.003/2015.06.30/SMAP_L3_SM_A_20150630_R13080_001.h5\n",
      "https://n5eil02u.ecs.nsidc.org/opendap/SMAP/SPL3SMA.003/2015.07.01/SMAP_L3_SM_A_20150701_R13080_001.h5\n",
      "https://n5eil02u.ecs.nsidc.org/opendap/SMAP/SPL3SMA.003/2015.07.02/SMAP_L3_SM_A_20150702_R13080_001.h5\n",
      "https://n5eil02u.ecs.nsidc.org/opendap/SMAP/SPL3SMA.003/2015.07.03/SMAP_L3_SM_A_20150703_R13080_001.h5\n",
      "https://n5eil02u.ecs.nsidc.org/opendap/SMAP/SPL3SMA.003/2015.07.04/SMAP_L3_SM_A_20150704_R13080_001.h5\n",
      "https://n5eil02u.ecs.nsidc.org/opendap/SMAP/SPL3SMA.003/2015.07.05/SMAP_L3_SM_A_20150705_R13080_001.h5\n",
      "https://n5eil02u.ecs.nsidc.org/opendap/SMAP/SPL3SMA.003/2015.07.06/SMAP_L3_SM_A_20150706_R13080_001.h5\n",
      "https://n5eil02u.ecs.nsidc.org/opendap/SMAP/SPL3SMA.003/2015.07.07/SMAP_L3_SM_A_20150707_R13080_001.h5\n"
     ]
    }
   ],
   "source": [
    "links = []\n",
    "for url in address:\n",
    "    page = requests.get(url)\n",
    "#     print(page.text)\n",
    "    soup = bs(page.content,\"html.parser\",parse_only=only_contentUrl_tags)\n",
    "#     results = soup.find_all(itemprop=\"distribution\")\n",
    "    results = soup.find_all(\"a\")\n",
    "    for x in results:\n",
    "        if str(x[\"href\"][-3:]) == \".h5\":\n",
    "            y = url[:67] + x[\"href\"]\n",
    "            links.append(y)\n",
    "            print(y)\n",
    "links = np.asarray(links)\n",
    "np.save('smap_3km_h5.npy',links)"
   ]
  },
  {
   "cell_type": "code",
   "execution_count": 128,
   "id": "subjective-thanksgiving",
   "metadata": {},
   "outputs": [
    {
     "data": {
      "text/plain": [
       "(86,)"
      ]
     },
     "execution_count": 128,
     "metadata": {},
     "output_type": "execute_result"
    }
   ],
   "source": [
    "smap_3km_links = np.load('smap_3km_h5.npy')\n",
    "smap_3km_links.shape"
   ]
  },
  {
   "cell_type": "code",
   "execution_count": 130,
   "id": "synthetic-alexander",
   "metadata": {},
   "outputs": [],
   "source": [
    "import glob"
   ]
  },
  {
   "cell_type": "code",
   "execution_count": 132,
   "id": "electrical-elevation",
   "metadata": {},
   "outputs": [
    {
     "data": {
      "text/plain": [
       "87"
      ]
     },
     "execution_count": 132,
     "metadata": {},
     "output_type": "execute_result"
    }
   ],
   "source": [
    "len(glob.glob('smap_l3_36km/*.h5'))"
   ]
  },
  {
   "cell_type": "code",
   "execution_count": null,
   "id": "driven-genetics",
   "metadata": {},
   "outputs": [],
   "source": []
  }
 ],
 "metadata": {
  "kernelspec": {
   "display_name": "sm",
   "language": "python",
   "name": "sm"
  },
  "language_info": {
   "codemirror_mode": {
    "name": "ipython",
    "version": 3
   },
   "file_extension": ".py",
   "mimetype": "text/x-python",
   "name": "python",
   "nbconvert_exporter": "python",
   "pygments_lexer": "ipython3",
   "version": "3.9.7"
  }
 },
 "nbformat": 4,
 "nbformat_minor": 5
}
