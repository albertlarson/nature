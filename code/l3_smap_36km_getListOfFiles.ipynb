{
 "cells": [
  {
   "cell_type": "code",
   "execution_count": 114,
   "id": "naval-arkansas",
   "metadata": {},
   "outputs": [],
   "source": [
    "import requests\n",
    "from bs4 import BeautifulSoup as bs\n",
    "import numpy as np\n",
    "import xarray as xr\n",
    "import glob\n",
    "import matplotlib.pyplot as plt\n",
    "import cartopy\n",
    "import cartopy.crs as ccrs"
   ]
  },
  {
   "cell_type": "code",
   "execution_count": 87,
   "id": "resident-render",
   "metadata": {},
   "outputs": [],
   "source": [
    "# url = \"https://n5eil01u.ecs.nsidc.org/SMAP/SPL3SMP.008/\"\n",
    "# page = requests.get(url)\n",
    "# print(page.text)\n",
    "soup = bs(page.content,\"html.parser\")\n",
    "results = soup.find(id='indexlist')\n",
    "# print(results.prettify())\n",
    "dates = results.find_all(\"td\",class_=\"indexcolname\")\n",
    "# dates_text = dates.find(\"a\")\n",
    "date_text = []\n",
    "for date in dates:\n",
    "    date_text_tmp = date.find(\"a\")\n",
    "    date_text.append(date_text_tmp.text)\n",
    "# date_text[0][0]\n",
    "date_text_filtered = [url + x for x in date_text if x[0] == \"2\"]"
   ]
  },
  {
   "cell_type": "code",
   "execution_count": 93,
   "id": "simplified-stupid",
   "metadata": {},
   "outputs": [
    {
     "data": {
      "text/plain": [
       "'https://n5eil01u.ecs.nsidc.org/SMAP/SPL3SMP.008/2015.03.31/'"
      ]
     },
     "execution_count": 93,
     "metadata": {},
     "output_type": "execute_result"
    }
   ],
   "source": [
    "len(date_text_filtered)\n",
    "date_text_filtered[0]"
   ]
  },
  {
   "cell_type": "code",
   "execution_count": 106,
   "id": "underlying-variety",
   "metadata": {},
   "outputs": [],
   "source": [
    "flat_list = [item for sublist in h5__ for item in sublist]\n",
    "flat_list = np.asarray(flat_list)\n",
    "flat_list.shape\n",
    "np.save('smap_h5.npy',flat_list)"
   ]
  },
  {
   "cell_type": "code",
   "execution_count": 107,
   "id": "tamil-noise",
   "metadata": {},
   "outputs": [],
   "source": [
    "# h5__ = []\n",
    "# for idx,x in enumerate(date_text_filtered):\n",
    "#     h5_page = requests.get(x)\n",
    "#     h5_soup = bs(h5_page.content,\"html.parser\")\n",
    "#     h5_results = h5_soup.find(id=\"indexlist\")\n",
    "#     h5_links = h5_results.find_all(\"a\")\n",
    "#     h5_href = [y[\"href\"] for y in h5_links]\n",
    "#     h5_ = [x+z for z in h5_href if z[-1] == \"5\"]\n",
    "#     h5_ = list(set(h5_))\n",
    "#     h5__.append(h5_)\n",
    "#     if idx % 100 == 0:\n",
    "#         print(idx)\n"
   ]
  },
  {
   "cell_type": "code",
   "execution_count": 103,
   "id": "bacterial-pendant",
   "metadata": {},
   "outputs": [],
   "source": [
    "with open('smap_h5.txt', 'w') as f:\n",
    "    for item in h5__:\n",
    "        f.write(\"%s\\n\" % item)"
   ]
  },
  {
   "cell_type": "code",
   "execution_count": 33,
   "id": "miniature-filter",
   "metadata": {},
   "outputs": [
    {
     "data": {
      "text/plain": [
       "'https://n5eil01u.ecs.nsidc.org/SMAP/SPL3SMP.008/2022.03.23/'"
      ]
     },
     "execution_count": 33,
     "metadata": {},
     "output_type": "execute_result"
    }
   ],
   "source": [
    "date_text_filtered[-1]"
   ]
  },
  {
   "cell_type": "code",
   "execution_count": 70,
   "id": "about-vocabulary",
   "metadata": {},
   "outputs": [],
   "source": [
    "h5_page = requests.get(date_text_filtered[0])\n",
    "h5_soup = BeautifulSoup(h5_page.content,\"html.parser\")\n",
    "# print(h5_soup.prettify())\n",
    "h5_results = h5_soup.find(id='indexlist')\n",
    "h5_links = h5_results.find_all(\"a\")\n",
    "h5_href = [x[\"href\"] for x in h5_links]"
   ]
  },
  {
   "cell_type": "code",
   "execution_count": 82,
   "id": "recognized-danish",
   "metadata": {},
   "outputs": [],
   "source": [
    "h5_ = [x for x in h5_href if x[-1] == \"5\"]"
   ]
  },
  {
   "cell_type": "code",
   "execution_count": 84,
   "id": "subject-cuisine",
   "metadata": {},
   "outputs": [],
   "source": [
    "h5_ = list(set(h5_))"
   ]
  },
  {
   "cell_type": "code",
   "execution_count": 85,
   "id": "african-works",
   "metadata": {},
   "outputs": [
    {
     "data": {
      "text/plain": [
       "['SMAP_L3_SM_P_20150331_R18290_001.h5', 'SMAP_L3_SM_P_20150331_R18290_002.h5']"
      ]
     },
     "execution_count": 85,
     "metadata": {},
     "output_type": "execute_result"
    }
   ],
   "source": [
    "h5_"
   ]
  },
  {
   "cell_type": "code",
   "execution_count": 119,
   "id": "prepared-avatar",
   "metadata": {},
   "outputs": [
    {
     "data": {
      "text/plain": [
       "'SMAP_L3_SM_P_20150331_R18290_002.h5'"
      ]
     },
     "execution_count": 119,
     "metadata": {},
     "output_type": "execute_result"
    }
   ],
   "source": [
    "flat_list[0][59:]"
   ]
  },
  {
   "cell_type": "code",
   "execution_count": 109,
   "id": "reliable-moisture",
   "metadata": {},
   "outputs": [
    {
     "data": {
      "text/plain": [
       "'https://n5eil01u.ecs.nsidc.org/SMAP/SPL3SMP.008/2015.03.31/SMAP_L3_SM_P_20150331_R18290_002.h5'"
      ]
     },
     "execution_count": 109,
     "metadata": {},
     "output_type": "execute_result"
    }
   ],
   "source": [
    "flat_list[0]"
   ]
  },
  {
   "cell_type": "code",
   "execution_count": 129,
   "id": "deadly-knock",
   "metadata": {},
   "outputs": [],
   "source": [
    "import h5py\n",
    "import sys"
   ]
  },
  {
   "cell_type": "code",
   "execution_count": 143,
   "id": "indonesian-engineer",
   "metadata": {},
   "outputs": [
    {
     "name": "stdout",
     "output_type": "stream",
     "text": [
      "By using the command h5py.File() a filehandle is returned:\n",
      "<HDF5 file \"SMAP_L3_SM_P_20150331_R18290_002.h5\" (mode r)>\n",
      "\n",
      "\n",
      "Now lets look at the groups within the file to access:\n",
      "0\tMetadata\n",
      "1\tSoil_Moisture_Retrieval_Data_AM\n",
      "2\tSoil_Moisture_Retrieval_Data_PM\n",
      "\n",
      "\n",
      "Now lets look at the variables within the filegroup **Soil_Moisture_Retrieval_Data_AM** to access the actual data:\n",
      "0\tEASE_column_index\n",
      "1\tEASE_row_index\n",
      "2\talbedo\n",
      "3\talbedo_dca\n",
      "4\talbedo_scah\n",
      "5\talbedo_scav\n",
      "6\tboresight_incidence\n",
      "7\tbulk_density\n",
      "8\tclay_fraction\n",
      "9\tfreeze_thaw_fraction\n",
      "10\tgrid_surface_status\n",
      "11\tlandcover_class\n",
      "12\tlandcover_class_fraction\n",
      "13\tlatitude\n",
      "14\tlatitude_centroid\n",
      "15\tlongitude\n",
      "16\tlongitude_centroid\n",
      "17\tradar_water_body_fraction\n",
      "18\tretrieval_qual_flag\n",
      "19\tretrieval_qual_flag_dca\n",
      "20\tretrieval_qual_flag_scah\n",
      "21\tretrieval_qual_flag_scav\n",
      "22\troughness_coefficient\n",
      "23\troughness_coefficient_dca\n",
      "24\troughness_coefficient_scah\n",
      "25\troughness_coefficient_scav\n",
      "26\tsoil_moisture\n",
      "27\tsoil_moisture_dca\n",
      "28\tsoil_moisture_error\n",
      "29\tsoil_moisture_scah\n",
      "30\tsoil_moisture_scav\n",
      "31\tstatic_water_body_fraction\n",
      "32\tsurface_flag\n",
      "33\tsurface_temperature\n",
      "34\tsurface_water_fraction_mb_h\n",
      "35\tsurface_water_fraction_mb_v\n",
      "36\ttb_3_corrected\n",
      "37\ttb_4_corrected\n",
      "38\ttb_h_corrected\n",
      "39\ttb_h_uncorrected\n",
      "40\ttb_qual_flag_3\n",
      "41\ttb_qual_flag_4\n",
      "42\ttb_qual_flag_h\n",
      "43\ttb_qual_flag_v\n",
      "44\ttb_time_seconds\n",
      "45\ttb_time_utc\n",
      "46\ttb_v_corrected\n",
      "47\ttb_v_uncorrected\n",
      "48\tvegetation_opacity\n",
      "49\tvegetation_opacity_dca\n",
      "50\tvegetation_opacity_scah\n",
      "51\tvegetation_opacity_scav\n",
      "52\tvegetation_water_content\n"
     ]
    }
   ],
   "source": [
    "f = h5py.File('SMAP_L3_SM_P_20150331_R18290_002.h5','r')\n",
    "print('By using the command h5py.File() a filehandle is returned:')\n",
    "print(f); print('\\n')\n",
    "\n",
    "print(\"Now lets look at the groups within the file to access:\")\n",
    "i=0;\n",
    "for key in f.keys():\n",
    "    print(str(i)+ '\\t'+key)\n",
    "    i+=1\n",
    "    \n",
    "group_id=list(f.keys())[1];# < Lets focus on the AM overpass for this example\n",
    "print('\\n')\n",
    "i=0\n",
    "print(\"Now lets look at the variables within the filegroup **Soil_Moisture_Retrieval_Data_AM** to access the actual data:\")\n",
    "for var in list(f[group_id].keys()):\n",
    "    print(str(i)+'\\t'+var)\n",
    "    i+=1"
   ]
  },
  {
   "cell_type": "code",
   "execution_count": 144,
   "id": "absent-monroe",
   "metadata": {},
   "outputs": [
    {
     "name": "stdout",
     "output_type": "stream",
     "text": [
      "the data has a shape of: (406, 964)\n"
     ]
    }
   ],
   "source": [
    "print('the data has a shape of: '+str(f[group_id][list(f[group_id].keys())[0]].shape))"
   ]
  },
  {
   "cell_type": "code",
   "execution_count": 146,
   "id": "disciplinary-violin",
   "metadata": {},
   "outputs": [
    {
     "name": "stdout",
     "output_type": "stream",
     "text": [
      "data are returned as <class 'numpy.ndarray'> something easy to work with in python.\n"
     ]
    }
   ],
   "source": [
    "var_id = list(f[group_id].keys())[26] # soil_moisture\n",
    "sm_data = f[group_id][var_id][:,:]\n",
    "sm_ds = f[group_id][var_id]\n",
    "print('data are returned as '+str(type(sm_data)) + ' something easy to work with in python.')"
   ]
  },
  {
   "cell_type": "code",
   "execution_count": 149,
   "id": "designing-atlas",
   "metadata": {},
   "outputs": [
    {
     "data": {
      "text/plain": [
       "<matplotlib.image.AxesImage at 0x7ff3b3644970>"
      ]
     },
     "execution_count": 149,
     "metadata": {},
     "output_type": "execute_result"
    },
    {
     "data": {
      "image/png": "[encoded data removed]",
      "text/plain": [
       "<Figure size 432x288 with 1 Axes>"
      ]
     },
     "metadata": {
      "needs_background": "light"
     },
     "output_type": "display_data"
    }
   ],
   "source": [
    "plt.imshow(sm_data,cmap='turbo')"
   ]
  },
  {
   "cell_type": "code",
   "execution_count": null,
   "id": "resistant-masters",
   "metadata": {},
   "outputs": [],
   "source": []
  }
 ],
 "metadata": {
  "kernelspec": {
   "display_name": "Python (.conda-sm)",
   "language": "python",
   "name": "conda-env-.conda-sm-py"
  },
  "language_info": {
   "codemirror_mode": {
    "name": "ipython",
    "version": 3
   },
   "file_extension": ".py",
   "mimetype": "text/x-python",
   "name": "python",
   "nbconvert_exporter": "python",
   "pygments_lexer": "ipython3",
   "version": "3.9.13"
  }
 },
 "nbformat": 4,
 "nbformat_minor": 5
}
